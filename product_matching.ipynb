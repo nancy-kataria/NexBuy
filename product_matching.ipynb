{
  "nbformat": 4,
  "nbformat_minor": 0,
  "metadata": {
    "colab": {
      "provenance": [],
      "include_colab_link": true
    },
    "kernelspec": {
      "name": "python3",
      "display_name": "Python 3"
    },
    "language_info": {
      "name": "python"
    }
  },
  "cells": [
    {
      "cell_type": "markdown",
      "metadata": {
        "id": "view-in-github",
        "colab_type": "text"
      },
      "source": [
        "<a href=\"https://colab.research.google.com/github/nancy-kataria/NexTrade/blob/main/product_matching.ipynb\" target=\"_parent\"><img src=\"https://colab.research.google.com/assets/colab-badge.svg\" alt=\"Open In Colab\"/></a>"
      ]
    },
    {
      "cell_type": "markdown",
      "source": [
        "=== Imports ==="
      ],
      "metadata": {
        "id": "TxLsn_3YgSds"
      }
    },
    {
      "cell_type": "code",
      "execution_count": 28,
      "metadata": {
        "id": "FQjFG7BkiGKB"
      },
      "outputs": [],
      "source": [
        "import kagglehub\n",
        "import pandas as pd\n",
        "import os\n",
        "import numpy as np\n",
        "from sklearn.feature_extraction.text import TfidfVectorizer\n",
        "from sklearn.metrics.pairwise import cosine_similarity\n",
        "from sklearn.model_selection import train_test_split"
      ]
    },
    {
      "cell_type": "markdown",
      "source": [
        "=== 1. Dataset Download ==="
      ],
      "metadata": {
        "id": "BitMW-zx-j2i"
      }
    },
    {
      "cell_type": "code",
      "source": [
        "# Download latest version\n",
        "print(\"Dowlaod Dataset...\")\n",
        "path = kagglehub.dataset_download(\"vivek468/superstore-dataset-final\")\n",
        "print(f\"Dataset downloaded to: {path}\")\n",
        "csv_file_path = os.path.join(path, \"Sample - Superstore.csv\")\n",
        "print(f\"Reading data from: {csv_file_path}\")"
      ],
      "metadata": {
        "id": "xj6z5B1j-nv7",
        "outputId": "172d8b7b-b60c-49fd-8435-ab6d177a5bde",
        "colab": {
          "base_uri": "https://localhost:8080/"
        }
      },
      "execution_count": 2,
      "outputs": [
        {
          "output_type": "stream",
          "name": "stdout",
          "text": [
            "Dowlaod Dataset...\n",
            "Downloading from https://www.kaggle.com/api/v1/datasets/download/vivek468/superstore-dataset-final?dataset_version_number=1...\n"
          ]
        },
        {
          "output_type": "stream",
          "name": "stderr",
          "text": [
            "100%|██████████| 550k/550k [00:00<00:00, 88.4MB/s]"
          ]
        },
        {
          "output_type": "stream",
          "name": "stdout",
          "text": [
            "Extracting files...\n",
            "Dataset downloaded to: /root/.cache/kagglehub/datasets/vivek468/superstore-dataset-final/versions/1\n",
            "Reading data from: /root/.cache/kagglehub/datasets/vivek468/superstore-dataset-final/versions/1/Sample - Superstore.csv\n"
          ]
        },
        {
          "output_type": "stream",
          "name": "stderr",
          "text": [
            "\n"
          ]
        }
      ]
    },
    {
      "cell_type": "markdown",
      "source": [
        "=== 2. Load & Clean Data ==="
      ],
      "metadata": {
        "id": "0fos8cod7pJR"
      }
    },
    {
      "cell_type": "code",
      "source": [
        "try:\n",
        "    superstore_data = pd.read_csv(csv_file_path, encoding='ISO-8859-1')\n",
        "    print(\"Data loaded successfully.\")\n",
        "except FileNotFoundError:\n",
        "    print(f\"ERROR: File not found at {csv_file_path}.\")\n",
        "    exit()"
      ],
      "metadata": {
        "id": "Mh4kbf0HjNH7",
        "colab": {
          "base_uri": "https://localhost:8080/"
        },
        "outputId": "4662fb81-5b0d-4c7b-f633-2a7f7033f086"
      },
      "execution_count": 3,
      "outputs": [
        {
          "output_type": "stream",
          "name": "stdout",
          "text": [
            "Data loaded successfully.\n"
          ]
        }
      ]
    },
    {
      "cell_type": "code",
      "source": [
        "# Keep necessary columns\n",
        "columns_to_keep = ['Order ID', 'Order Date', 'Ship Date', 'Customer ID', 'Country', 'City', 'State', 'Postal Code', 'Product ID', 'Product Name', 'Sales', 'Quantity', 'Category', 'Sub-Category']\n",
        "superstore_data = superstore_data[columns_to_keep]"
      ],
      "metadata": {
        "id": "_fTuhoxWlcUH"
      },
      "execution_count": 4,
      "outputs": []
    },
    {
      "cell_type": "code",
      "source": [
        "# Display the first 5 rows to check the data\n",
        "print(\"First 5 rows of data:\")\n",
        "print(superstore_data.head())"
      ],
      "metadata": {
        "id": "4bSD5nfglcFi",
        "outputId": "befd79d8-4acd-4277-d99f-55fb98fc3e6d",
        "colab": {
          "base_uri": "https://localhost:8080/"
        }
      },
      "execution_count": 5,
      "outputs": [
        {
          "output_type": "stream",
          "name": "stdout",
          "text": [
            "First 5 rows of data:\n",
            "         Order ID  Order Date   Ship Date Customer ID        Country  \\\n",
            "0  CA-2016-152156   11/8/2016  11/11/2016    CG-12520  United States   \n",
            "1  CA-2016-152156   11/8/2016  11/11/2016    CG-12520  United States   \n",
            "2  CA-2016-138688   6/12/2016   6/16/2016    DV-13045  United States   \n",
            "3  US-2015-108966  10/11/2015  10/18/2015    SO-20335  United States   \n",
            "4  US-2015-108966  10/11/2015  10/18/2015    SO-20335  United States   \n",
            "\n",
            "              City       State  Postal Code       Product ID  \\\n",
            "0        Henderson    Kentucky        42420  FUR-BO-10001798   \n",
            "1        Henderson    Kentucky        42420  FUR-CH-10000454   \n",
            "2      Los Angeles  California        90036  OFF-LA-10000240   \n",
            "3  Fort Lauderdale     Florida        33311  FUR-TA-10000577   \n",
            "4  Fort Lauderdale     Florida        33311  OFF-ST-10000760   \n",
            "\n",
            "                                        Product Name     Sales  Quantity  \\\n",
            "0                  Bush Somerset Collection Bookcase  261.9600         2   \n",
            "1  Hon Deluxe Fabric Upholstered Stacking Chairs,...  731.9400         3   \n",
            "2  Self-Adhesive Address Labels for Typewriters b...   14.6200         2   \n",
            "3      Bretford CR4500 Series Slim Rectangular Table  957.5775         5   \n",
            "4                     Eldon Fold 'N Roll Cart System   22.3680         2   \n",
            "\n",
            "          Category Sub-Category  \n",
            "0        Furniture    Bookcases  \n",
            "1        Furniture       Chairs  \n",
            "2  Office Supplies       Labels  \n",
            "3        Furniture       Tables  \n",
            "4  Office Supplies      Storage  \n"
          ]
        }
      ]
    },
    {
      "cell_type": "code",
      "source": [
        "# Convert dates\n",
        "superstore_data['Order Date'] = pd.to_datetime(superstore_data['Order Date'])\n",
        "superstore_data['Ship Date'] = pd.to_datetime(superstore_data['Ship Date'])"
      ],
      "metadata": {
        "id": "v8JDsd7ZkKAk"
      },
      "execution_count": 6,
      "outputs": []
    },
    {
      "cell_type": "code",
      "source": [
        "# drop rows with missing any necessary columns\n",
        "superstore_data.dropna(subset=columns_to_keep, inplace=True)"
      ],
      "metadata": {
        "id": "omwT_AcdkKXc"
      },
      "execution_count": 7,
      "outputs": []
    },
    {
      "cell_type": "markdown",
      "source": [
        "=== 3. Precomputation  ==="
      ],
      "metadata": {
        "id": "go59KyXFg9VY"
      }
    },
    {
      "cell_type": "code",
      "source": [
        "# 1. Product Popularity\n",
        "product_popularity = superstore_data.groupby('Product ID').agg({\n",
        "    'Product Name': 'first',\n",
        "    'Category': 'first',\n",
        "    'Sub-Category': 'first',\n",
        "    'Quantity': 'sum',\n",
        "    'Sales': 'sum'\n",
        "}).reset_index()\n",
        "\n",
        "# Normalize popularity score\n",
        "product_popularity['popularity_score'] = product_popularity['Quantity'] / product_popularity['Quantity'].max()\n",
        "\n",
        "# 2. Content-Based Info Preparation\n",
        "superstore_data['product_info'] = (\n",
        "    superstore_data['Product Name'].astype(str) + ' ' +\n",
        "    superstore_data['Category'].astype(str) + ' ' +\n",
        "    superstore_data['Sub-Category'].astype(str)\n",
        ")\n",
        "\n",
        "# One row per product\n",
        "products = superstore_data.drop_duplicates(subset='Product ID')[\n",
        "    ['Product ID', 'Product Name', 'Category', 'Sub-Category', 'product_info']\n",
        "]\n",
        "\n",
        "# 3. TF-IDF Matrix and Cosine Similarity\n",
        "vectorizer = TfidfVectorizer(stop_words='english')\n",
        "tfidf_matrix = vectorizer.fit_transform(products['product_info'])\n",
        "cosine_sim = cosine_similarity(tfidf_matrix, tfidf_matrix)\n",
        "\n",
        "# 4. Product Index Mapping\n",
        "product_indices = pd.Series(products.index, index=products['Product ID']).drop_duplicates()\n",
        "\n",
        "# 5. User-Product Matrix and Product Similarity for Collaborative Filtering\n",
        "user_product_matrix = superstore_data.pivot_table(\n",
        "    index='Customer ID',\n",
        "    columns='Product ID',\n",
        "    values='Quantity',\n",
        "    aggfunc='sum'\n",
        ").fillna(0)\n",
        "\n",
        "product_similarity = cosine_similarity(user_product_matrix.T)\n",
        "product_similarity_df = pd.DataFrame(\n",
        "    product_similarity,\n",
        "    index=user_product_matrix.columns,\n",
        "    columns=user_product_matrix.columns\n",
        ")"
      ],
      "metadata": {
        "id": "c9fGWIFgg_Mp"
      },
      "execution_count": 8,
      "outputs": []
    },
    {
      "cell_type": "markdown",
      "source": [
        "=== 4. Recommendation Functions ==="
      ],
      "metadata": {
        "id": "M0vdvNDY7zWv"
      }
    },
    {
      "cell_type": "code",
      "source": [
        "# === Helper Functions ===\n",
        "def get_customer_data(customer_id, df):\n",
        "    \"\"\"Fetches purchase data and unique purchased product IDs for a customer.\n",
        "\n",
        "    Args:\n",
        "        customer_id (str): The ID of the target customer.\n",
        "        df (pd.DataFrame): The main DataFrame containing all transaction data.\n",
        "                           Must include 'Customer ID' and 'Product ID'.\n",
        "\n",
        "    Returns:\n",
        "        tuple[pd.DataFrame, np.ndarray]: A tuple containing:\n",
        "            - customer_data (pd.DataFrame): A DataFrame filtered to only include\n",
        "                                            rows for the given customer_id. Returns\n",
        "                                            an empty DataFrame if customer not found.\n",
        "            - purchased_ids (np.ndarray): A NumPy array of unique Product IDs\n",
        "                                          purchased by the customer. Returns an\n",
        "                                          empty array if customer not found.\n",
        "    \"\"\"\n",
        "    customer_data = df[df['Customer ID'] == customer_id].copy()\n",
        "    # Using .copy() is good practice here to prevent potential SettingWithCopyWarning\n",
        "    # if the returned DataFrame is modified later in another function.\n",
        "    purchased_ids = customer_data['Product ID'].unique()\n",
        "    return customer_data, purchased_ids\n",
        "\n",
        "def get_unseen_products(customer_id, df, product_df):\n",
        "    \"\"\"\n",
        "    Get a list of products the customer hasn't purchased yet\n",
        "\n",
        "    Args:\n",
        "      customer_id (str): ID of the target customer.\n",
        "      df (pd.DataFrame): Full transaction data (e.g., superstore_data)\n",
        "                           used to find customer history.\n",
        "      product_df (pd.DataFrame): DataFrame of all products to recommend\n",
        "                                   from (e.g., product_popularity).\n",
        "\n",
        "    Returns:\n",
        "      pd.DataFrame: filtered product_df with only unseen products\n",
        "      pd.DataFrame: list of purchased Product IDs for fallback logic\n",
        "    \"\"\"\n",
        "\n",
        "    _, purchased_ids = get_customer_data(customer_id, df)\n",
        "    return product_df[~product_df['Product ID'].isin(purchased_ids)], purchased_ids\n",
        "\n",
        "def add_fallback_if_needed(recommendations, purchased, product_df, n, by):\n",
        "    \"\"\"\n",
        "    Add fallback recommendations if there aren't enough unseen products to recommend\n",
        "    This uses globally popular products (based on 'Quantity' or 'Sales') to fill the gap\n",
        "\n",
        "    Args:\n",
        "      recommendations: filtered list of unseen, ranked products\n",
        "      purchased: list of already purchased product IDs\n",
        "      product_df: global product list (e.g., product_popularity)\n",
        "      n: number of products we want to recommend\n",
        "      by: popularity metric ('Quantity' or 'Sales')\n",
        "\n",
        "    Returns:\n",
        "     pd.DataFrame: final DataFrame of n recommendations\n",
        "    \"\"\"\n",
        "\n",
        "    if len(recommendations) < n:\n",
        "        print(f\"Customer has only {len(recommendations)} new products available. Showing global popular items instead.\")\n",
        "        fallback = get_global_popular_products(n=n, by=by)\n",
        "        fallback = fallback[~fallback['Product ID'].isin(purchased)]\n",
        "        recommendations = pd.concat([recommendations, fallback]).drop_duplicates('Product ID')\n",
        "    return recommendations\n",
        "\n",
        "def get_customer_preferences(customer_id, df):\n",
        "    \"\"\"\n",
        "    Gets the customer's most frequent categories and sub-categories.\n",
        "\n",
        "    Analyzes a customer's purchase history to find the categories and\n",
        "    sub-categories they interact with most often, based on the count\n",
        "    of purchases in each. Used for personalized popularity recommendations.\n",
        "\n",
        "    Args:\n",
        "        customer_id (str): The ID of the target customer.\n",
        "        df (pd.DataFrame): The DataFrame containing transaction data, including\n",
        "                           'Customer ID', 'Category', and 'Sub-Category' columns.\n",
        "\n",
        "    Returns:\n",
        "        tuple[list[str], list[str]]: A tuple containing two lists:\n",
        "            - The first list contains category names, sorted by frequency (most frequent first).\n",
        "            - The second list contains sub-category names, sorted by frequency.\n",
        "            Returns two empty lists ([], []) if the customer has no purchase history in df.\n",
        "    \"\"\"\n",
        "    customer_data, _ = get_customer_data(customer_id, df)\n",
        "    if customer_data.empty:\n",
        "        return [], []\n",
        "    top_categories = customer_data['Category'].value_counts().index.tolist()\n",
        "    top_subcategories = customer_data['Sub-Category'].value_counts().index.tolist()\n",
        "    return top_categories, top_subcategories\n",
        "\n",
        "\n",
        "\n",
        "# === Calculation  Functions ===\n",
        "def get_global_popular_products(n=10, by='Quantity'):\n",
        "    \"\"\"\n",
        "    Recommends top-N globally popular products. Sorts all products based on a specified metric ('Quantity' or 'Sales') and returns the top N. Does not consider customer history.\n",
        "\n",
        "    Args:\n",
        "        n (int, optional): The number of products to recommend. Defaults to 10.\n",
        "        by (str, optional): The metric to sort popularity by ('Quantity' or 'Sales'). Defaults to 'Quantity'.\n",
        "\n",
        "    Returns:\n",
        "        pd.DataFrame: A DataFrame containing the top N popular products with columns ['Product ID', 'Product Name', 'Category', 'Sub-Category', <by>]. Returns an empty DataFrame if an invalid 'by' parameter is provided (though it currently raises ValueError).\n",
        "\n",
        "    Raises:\n",
        "        ValueError: If 'by' is not 'Quantity' or 'Sales'.\n",
        "    \"\"\"\n",
        "    if by not in ['Quantity', 'Sales']:\n",
        "        raise ValueError(\"Parameter 'by' must be either 'Quantity' or 'Sales'\")\n",
        "\n",
        "    return product_popularity.sort_values(by=by, ascending=False).head(n)[['Product ID', 'Product Name', 'Category', 'Sub-Category', by]]\n",
        "\n",
        "def get_content_similar_items(product_id, top_n=5):\n",
        "    \"\"\"\n",
        "    Recommends products similar to a given product based on content.\n",
        "\n",
        "      Uses precomputed TF-IDF vectors and cosine similarity based on product\n",
        "      name, category, and sub-category.\n",
        "\n",
        "      Args:\n",
        "          product_id (str): The ID of the product to find similar items for.\n",
        "          top_n (int, optional): The number of similar products to return.\n",
        "                                Defaults to 5.\n",
        "\n",
        "      Returns:\n",
        "          pd.DataFrame: A DataFrame containing the top_n similar products with\n",
        "                        columns ['Product Name', 'Category', 'Sub-Category'].\n",
        "                        Returns an empty DataFrame if the product_id is not found.\n",
        "      \"\"\"\n",
        "    if product_id not in product_indices.index:\n",
        "      print(f\"Product ID '{product_id}' not found in product indices.\")\n",
        "      return pd.DataFrame() # Or an empty list\n",
        "\n",
        "    idx = product_indices[product_id]\n",
        "    sim_scores = list(enumerate(cosine_sim[idx]))\n",
        "    sim_scores = sorted(sim_scores, key=lambda x: x[1], reverse=True)[1:top_n+1]\n",
        "    product_idxs = [i[0] for i in sim_scores]\n",
        "\n",
        "    return products.iloc[product_idxs][['Product Name', 'Category', 'Sub-Category']]\n",
        "\n",
        "def get_collaborative_similar_items(product_id, top_n=5):\n",
        "    \"\"\"Recommends products similar to a given product using item-item collaborative filtering.\n",
        "\n",
        "    Uses a precomputed product similarity matrix based on user co-purchase patterns.\n",
        "\n",
        "    Args:\n",
        "        product_id (str): The ID of the product to find collaboratively similar items for.\n",
        "        top_n (int, optional): The number of similar products to return. Defaults to 5.\n",
        "\n",
        "    Returns:\n",
        "        pd.DataFrame or str: A DataFrame containing the top_n similar products\n",
        "                             with columns ['Product ID', 'Similarity Score', 'Product Name',\n",
        "                             'Category', 'Sub-Category']. Returns a string message if the\n",
        "                             product_id is not found in the similarity matrix. (Consider\n",
        "                             changing string returns to an empty DataFrame).\n",
        "    \"\"\"\n",
        "\n",
        "    if product_id not in product_similarity_df.columns:\n",
        "        print(f\"Product {product_id} not found in dataset.\")\n",
        "        return pd.DataFrame() # Or an empty list\n",
        "    similar_scores = product_similarity_df[product_id].sort_values(ascending=False)\n",
        "    # return similar_scores[1:top_n+1]\n",
        "\n",
        "    recommended = similar_scores[1:top_n+1].reset_index()\n",
        "    recommended.columns = ['Product ID', 'Similarity Score']\n",
        "    return recommended.merge(\n",
        "        product_popularity[['Product ID', 'Product Name', 'Category', 'Sub-Category']],\n",
        "        on='Product ID', how='left'\n",
        "    )\n",
        "\n",
        "\n",
        "\n",
        "# === Main Recommendation Functions ===\n",
        "def recommend_popular(customer_id=None, personalized=False, n=10, by='Quantity'):\n",
        "    \"\"\"Recommends popular products, optionally personalized for a customer.\n",
        "\n",
        "    Modes:\n",
        "    1. Global: If customer_id is None, returns globally popular products.\n",
        "    2. Unseen for Customer: If customer_id is provided and personalized=False,\n",
        "       returns globally popular products not yet purchased by the customer.\n",
        "    3. Personalized Popular: If customer_id is provided and personalized=True,\n",
        "       returns popular products from the customer's preferred categories/sub-categories\n",
        "       that they haven't purchased yet.\n",
        "\n",
        "    Includes fallback to global popular items if not enough personalized/unseen\n",
        "    items are found.\n",
        "\n",
        "    Args:\n",
        "        customer_id (str, optional): The ID of the customer. Defaults to None.\n",
        "        personalized (bool, optional): Whether to filter by customer preferences.\n",
        "                                       Defaults to False. Ignored if customer_id is None.\n",
        "        n (int, optional): The number of products to recommend. Defaults to 10.\n",
        "        by (str, optional): The metric for popularity ('Quantity' or 'Sales').\n",
        "                            Defaults to 'Quantity'.\n",
        "\n",
        "    Returns:\n",
        "        pd.DataFrame: A DataFrame containing the recommended products with columns\n",
        "                      ['Product ID', 'Product Name', 'Category', 'Sub-Category', <metric_used>].\n",
        "                      Returns global recommendations if customer preferences cannot be determined.\n",
        "                      May return fewer than n items if insufficient products are available\n",
        "                      even after fallback.\n",
        "\n",
        "    Raises:\n",
        "        ValueError: If 'by' is not 'Quantity' or 'Sales'.\n",
        "    \"\"\"\n",
        "    if by not in ['Quantity', 'Sales']:\n",
        "        raise ValueError(\"Parameter 'by' must be either 'Quantity' or 'Sales'\")\n",
        "\n",
        "    if customer_id is None:\n",
        "        return get_global_popular_products(n, by)\n",
        "\n",
        "    df = product_popularity\n",
        "\n",
        "    if personalized:\n",
        "        top_cats, top_subcats = get_customer_preferences(customer_id, superstore_data)\n",
        "        if not top_cats or not top_subcats:\n",
        "            print(f\"No purchase history for customer '{customer_id}'.\")\n",
        "            return get_global_popular_products(n, by)\n",
        "        df = df[(df['Category'].isin(top_cats)) | (df['Sub-Category'].isin(top_subcats))]\n",
        "\n",
        "    unseen, purchased = get_unseen_products(customer_id, superstore_data, df)\n",
        "    unseen = unseen.sort_values(by=by, ascending=False)\n",
        "    final = add_fallback_if_needed(unseen, purchased, product_popularity, n, by)\n",
        "\n",
        "    return final.head(n)[['Product ID', 'Product Name', 'Category', 'Sub-Category', by]]\n",
        "\n",
        "def recommend_content_based(customer_id, top_n=5):\n",
        "    \"\"\"\n",
        "    Recommends products similar to the last item purchased by a customer.\n",
        "\n",
        "    Finds the customer's most recent purchase and then uses content-based\n",
        "    similarity (get_content_similar_items) to find similar items.\n",
        "\n",
        "    Args:\n",
        "        customer_id (str): The ID of the customer.\n",
        "        top_n (int, optional): The number of similar products to recommend.\n",
        "                               Defaults to 5.\n",
        "\n",
        "    Returns:\n",
        "        pd.DataFrame or str: A DataFrame containing the recommended products\n",
        "                             (from get_content_similar_items) or a string message\n",
        "                             if the customer has no purchase history.\n",
        "                             (Consider changing the string return to an empty DataFrame\n",
        "                             for consistency).\n",
        "    \"\"\"\n",
        "    customer_purchases = superstore_data[superstore_data['Customer ID'] == customer_id]\n",
        "    if customer_purchases.empty:\n",
        "          print(f\"No purchase history for customer '{customer_id}'.\")\n",
        "          return pd.DataFrame() # Or an empty list\n",
        "\n",
        "    # Get last product bought\n",
        "    last_purchase = customer_purchases.sort_values('Order Date', ascending=False).iloc[0]\n",
        "    last_product_id = last_purchase['Product ID']\n",
        "    last_product_name = last_purchase['Product Name']\n",
        "\n",
        "    print(f\"Based on last product purchased (ID: {last_product_id}): {last_product_name}\")\n",
        "    return get_content_similar_items(last_product_id, top_n)\n",
        "\n",
        "def recommend_collaborative(customer_id, top_n=5):\n",
        "    \"\"\"Recommends products to a customer based on collaborative filtering.\n",
        "\n",
        "    Aggregates similarity scores from items the customer has purchased to find\n",
        "    new items that are similar based on co-purchase patterns across all users.\n",
        "    Excludes items already purchased by the customer.\n",
        "\n",
        "    Args:\n",
        "        customer_id (str): The ID of the customer.\n",
        "        top_n (int, optional): The number of products to recommend. Defaults to 5.\n",
        "\n",
        "    Returns:\n",
        "        pd.DataFrame or str: A DataFrame containing the top_n recommended products\n",
        "                             with columns ['Product ID', 'Product Name', 'Category',\n",
        "                             'Sub-Category']. Returns a string message if the customer\n",
        "                             has no history or suitable product data isn't found.\n",
        "                             (Consider changing string returns to an empty DataFrame).\n",
        "    \"\"\"\n",
        "\n",
        "    customer_data, purchased_ids = get_customer_data(customer_id, superstore_data)\n",
        "    if customer_data.empty:\n",
        "        print(f\"No purchase history for customer '{customer_id}'.\")\n",
        "        return pd.DataFrame() # Or an empty list\n",
        "\n",
        "    # If user has multiple purchases, accumulate similarity\n",
        "    sim_scores = None\n",
        "    for pid in purchased_ids:\n",
        "        if pid not in product_similarity_df.columns:\n",
        "            continue\n",
        "        product_scores = product_similarity_df[pid]\n",
        "        sim_scores = product_scores if sim_scores is None else sim_scores + product_scores\n",
        "\n",
        "    if sim_scores is None:\n",
        "        print(f\"No valid products found for similarity for customer '{customer_id}'.\")\n",
        "        return pd.DataFrame() # Or an empty list\n",
        "\n",
        "    # Normalize if multiple products\n",
        "    sim_scores = sim_scores / len(purchased_ids)\n",
        "\n",
        "    # Remove already purchased products\n",
        "    sim_scores = sim_scores.drop(labels=purchased_ids, errors='ignore')\n",
        "\n",
        "    # Top N similar products\n",
        "    top_ids = sim_scores.sort_values(ascending=False).head(top_n).index\n",
        "\n",
        "    return product_popularity[product_popularity['Product ID'].isin(top_ids)][[\n",
        "        'Product ID', 'Product Name', 'Category', 'Sub-Category'\n",
        "    ]]\n",
        "\n",
        "def recommend_hybrid(customer_id, top_n=5, w_content=0.4, w_collab=0.4, w_pop=0.2):\n",
        "    \"\"\"\n",
        "    Recommends products using a hybrid approach combining content similarity,\n",
        "    collaborative similarity, and global popularity.\n",
        "    \"\"\"\n",
        "    customer_data, purchased_ids = get_customer_data(customer_id, superstore_data)\n",
        "    if customer_data.empty:\n",
        "        print(f\"No purchase history found for customer '{customer_id}'.\")\n",
        "        return pd.DataFrame()\n",
        "\n",
        "    # --- 1. Calculate Average Content Similarity Scores ---\n",
        "    purchased_idxs_content = [product_indices[pid] for pid in purchased_ids if pid in product_indices]\n",
        "    if not purchased_idxs_content:\n",
        "        print(f\"No purchased products for customer '{customer_id}' found in content product index.\")\n",
        "        # Could potentially proceed without content score or return empty\n",
        "        avg_content_sim_scores = np.zeros(len(products)) # Assign zero score if no history match\n",
        "    else:\n",
        "        # Average similarity to user's purchase history\n",
        "        avg_content_sim_scores = sum(cosine_sim[idx] for idx in purchased_idxs_content) / len(purchased_idxs_content)\n",
        "\n",
        "    content_df = pd.DataFrame({\n",
        "        'Product ID': products['Product ID'], # Use Product ID from the 'products' DataFrame\n",
        "        'content_score': avg_content_sim_scores\n",
        "    })\n",
        "\n",
        "    # --- 2. Calculate Average Collaborative Similarity Scores ---\n",
        "    sim_scores_collab = None\n",
        "    valid_purchased_ids_count = 0\n",
        "    for pid in purchased_ids:\n",
        "        if pid not in product_similarity_df.columns:\n",
        "            continue\n",
        "        product_scores = product_similarity_df[pid]\n",
        "        sim_scores_collab = product_scores if sim_scores_collab is None else sim_scores_collab + product_scores\n",
        "        valid_purchased_ids_count += 1\n",
        "\n",
        "    if sim_scores_collab is None:\n",
        "        print(f\"No valid products found for collaborative similarity for customer '{customer_id}'.\")\n",
        "         # Assign zero score if no history match in collaborative matrix\n",
        "        collab_df = pd.DataFrame({'Product ID': product_similarity_df.columns, 'collab_score': 0.0})\n",
        "    else:\n",
        "        avg_collab_sim_scores = sim_scores_collab / valid_purchased_ids_count\n",
        "        collab_df = avg_collab_sim_scores.reset_index()\n",
        "        collab_df.columns = ['Product ID', 'collab_score']\n",
        "\n",
        "    # --- 3. Combine Scores ---\n",
        "    # Start with all products and their popularity\n",
        "    combined_df = product_popularity[['Product ID', 'Product Name', 'Category', 'Sub-Category', 'popularity_score']].copy()\n",
        "\n",
        "    # Merge content scores\n",
        "    combined_df = pd.merge(combined_df, content_df, on='Product ID', how='left')\n",
        "    combined_df['content_score'] = combined_df['content_score'].fillna(0) # Handle products not in content matrix (if any)\n",
        "\n",
        "    # Merge collaborative scores\n",
        "    combined_df = pd.merge(combined_df, collab_df, on='Product ID', how='left')\n",
        "    combined_df['collab_score'] = combined_df['collab_score'].fillna(0) # Handle products not in collab matrix\n",
        "\n",
        "    # Filter out already purchased items\n",
        "    combined_df = combined_df[~combined_df['Product ID'].isin(purchased_ids)]\n",
        "\n",
        "    # Calculate final hybrid score\n",
        "    combined_df['final_score'] = (\n",
        "        w_content * combined_df['content_score'] +\n",
        "        w_collab * combined_df['collab_score'] +\n",
        "        w_pop * combined_df['popularity_score']\n",
        "    )\n",
        "\n",
        "    # Get top N recommendations\n",
        "    final_recommendations = combined_df.sort_values(by='final_score', ascending=False).head(top_n)\n",
        "\n",
        "    return final_recommendations[['Product ID', 'Product Name', 'Category', 'Sub-Category', 'final_score']]"
      ],
      "metadata": {
        "id": "SsHMrd2VkK9y"
      },
      "execution_count": 33,
      "outputs": []
    },
    {
      "cell_type": "markdown",
      "source": [
        "=== 5. Example Usage ==="
      ],
      "metadata": {
        "id": "hTLkJLiOity3"
      }
    },
    {
      "cell_type": "code",
      "source": [
        "customer_example_id = 'CG-12520'\n",
        "num_recommendations = 5\n",
        "\n",
        "print(f\"--- Recommendations for Customer: {customer_example_id} ---\")\n",
        "\n",
        "print(f\"\\nTop {num_recommendations} Popular Products (Unseen by Customer):\")\n",
        "print(recommend_popular(customer_id=customer_example_id, personalized=False, n=num_recommendations))\n",
        "\n",
        "print(f\"\\nTop {num_recommendations} Content-Based Recommendations (Based on Last Purchase):\")\n",
        "print(recommend_content_based(customer_example_id, top_n=num_recommendations))\n",
        "\n",
        "print(f\"\\nTop {num_recommendations} Collaborative Recommendations (Based on Customer History):\")\n",
        "print(recommend_collaborative(customer_example_id, top_n=num_recommendations))\n",
        "\n",
        "print(f\"\\nTop {num_recommendations} Advanced Hybrid Recommendations (Content+Collab+Pop):\")\n",
        "print(recommend_hybrid(customer_example_id, top_n=num_recommendations))"
      ],
      "metadata": {
        "id": "45HD3ts26V_e",
        "outputId": "f4fc3e18-09e5-4456-94a2-25b91ed869b0",
        "colab": {
          "base_uri": "https://localhost:8080/"
        }
      },
      "execution_count": 34,
      "outputs": [
        {
          "output_type": "stream",
          "name": "stdout",
          "text": [
            "--- Recommendations for Customer: CG-12520 ---\n",
            "\n",
            "Top 5 Popular Products (Unseen by Customer):\n",
            "           Product ID                                       Product Name  \\\n",
            "1569  TEC-AC-10003832                 Logitech P710e Mobile Speakerphone   \n",
            "1144  OFF-PA-10001970                                         Xerox 1881   \n",
            "694   OFF-BI-10001524  GBC Premium Transparent Covers with Diagonal L...   \n",
            "93    FUR-CH-10002647         Situations Contoured Folding Chairs, 4/Set   \n",
            "721   OFF-BI-10002026                            Avery Arch Ring Binders   \n",
            "\n",
            "             Category Sub-Category  Quantity  \n",
            "1569       Technology  Accessories        75  \n",
            "1144  Office Supplies        Paper        70  \n",
            "694   Office Supplies      Binders        67  \n",
            "93          Furniture       Chairs        64  \n",
            "721   Office Supplies      Binders        64  \n",
            "\n",
            "Top 5 Content-Based Recommendations (Based on Last Purchase):\n",
            "Based on last product purchased (ID: OFF-ST-10000615): SimpliFile Personal File, Black Granite, 15w x 6-15/16d x 11-1/4h\n",
            "                                           Product Name         Category  \\\n",
            "144   Sanyo 2.5 Cubic Foot Mid-Size Office Refrigera...  Office Supplies   \n",
            "1995  3.6 Cubic Foot Counter Height Office Refrigerator  Office Supplies   \n",
            "5434  Sanyo Counter Height Refrigerator with Crisper...  Office Supplies   \n",
            "2190          Fellowes Mighty 8 Compact Surge Protector  Office Supplies   \n",
            "2114                          Mobile Personal File Cube  Office Supplies   \n",
            "\n",
            "     Sub-Category  \n",
            "144    Appliances  \n",
            "1995   Appliances  \n",
            "5434   Appliances  \n",
            "2190   Appliances  \n",
            "2114      Storage  \n",
            "\n",
            "Top 5 Collaborative Recommendations (Based on Customer History):\n",
            "           Product ID                                       Product Name  \\\n",
            "827   OFF-BI-10004528  Cardinal Poly Pocket Divider Pockets for Ring ...   \n",
            "1000  OFF-LA-10004093                                          Avery 486   \n",
            "1075  OFF-PA-10000807  TOPS \"Important Message\" Pads, Canary, 4-1/4 x...   \n",
            "1106  OFF-PA-10001509  Recycled Desk Saver Line \"While You Were Out\" ...   \n",
            "1683  TEC-PH-10000148  Cyber Acoustics AC-202b Speech Recognition Ste...   \n",
            "\n",
            "             Category Sub-Category  \n",
            "827   Office Supplies      Binders  \n",
            "1000  Office Supplies       Labels  \n",
            "1075  Office Supplies        Paper  \n",
            "1106  Office Supplies        Paper  \n",
            "1683       Technology       Phones  \n",
            "\n",
            "Top 5 Advanced Hybrid Recommendations (Content+Collab+Pop):\n",
            "           Product ID                                       Product Name  \\\n",
            "93    FUR-CH-10002647         Situations Contoured Folding Chairs, 4/Set   \n",
            "1569  TEC-AC-10003832                 Logitech P710e Mobile Speakerphone   \n",
            "694   OFF-BI-10001524  GBC Premium Transparent Covers with Diagonal L...   \n",
            "1144  OFF-PA-10001970                                         Xerox 1881   \n",
            "1515  TEC-AC-10002006                   Memorex Micro Travel Drive 16 GB   \n",
            "\n",
            "             Category Sub-Category  final_score  \n",
            "93          Furniture       Chairs     0.208626  \n",
            "1569       Technology  Accessories     0.208309  \n",
            "694   Office Supplies      Binders     0.202578  \n",
            "1144  Office Supplies        Paper     0.194508  \n",
            "1515       Technology  Accessories     0.177583  \n"
          ]
        }
      ]
    },
    {
      "cell_type": "markdown",
      "source": [
        "=== 6. Evaluation ==="
      ],
      "metadata": {
        "id": "RxDkBumng3q2"
      }
    },
    {
      "cell_type": "code",
      "source": [],
      "metadata": {
        "id": "IWmSoeATiZYf"
      },
      "execution_count": null,
      "outputs": []
    }
  ]
}