{
  "nbformat": 4,
  "nbformat_minor": 0,
  "metadata": {
    "colab": {
      "provenance": [],
      "include_colab_link": true
    },
    "kernelspec": {
      "name": "python3",
      "display_name": "Python 3"
    },
    "language_info": {
      "name": "python"
    }
  },
  "cells": [
    {
      "cell_type": "markdown",
      "metadata": {
        "id": "view-in-github",
        "colab_type": "text"
      },
      "source": [
        "<a href=\"https://colab.research.google.com/github/nancy-kataria/NexTrade/blob/main/product_matching.ipynb\" target=\"_parent\"><img src=\"https://colab.research.google.com/assets/colab-badge.svg\" alt=\"Open In Colab\"/></a>"
      ]
    },
    {
      "cell_type": "markdown",
      "source": [
        "=== Imports ==="
      ],
      "metadata": {
        "id": "TxLsn_3YgSds"
      }
    },
    {
      "cell_type": "code",
      "execution_count": 1,
      "metadata": {
        "id": "FQjFG7BkiGKB"
      },
      "outputs": [],
      "source": [
        "import kagglehub\n",
        "import pandas as pd\n",
        "import matplotlib.pyplot as plt\n",
        "from sklearn.feature_extraction.text import TfidfVectorizer\n",
        "from sklearn.metrics.pairwise import cosine_similarity"
      ]
    },
    {
      "cell_type": "markdown",
      "source": [
        "=== 1. Dataset Download ==="
      ],
      "metadata": {
        "id": "BitMW-zx-j2i"
      }
    },
    {
      "cell_type": "code",
      "source": [
        "# Download latest version\n",
        "print(\"Dowlaod Dataset...\")\n",
        "path = kagglehub.dataset_download(\"vivek468/superstore-dataset-final\")\n",
        "print(f\"Dataset downloaded to: {path}\")\n",
        "csv_file_path = path + \"/Sample - Superstore.csv\"\n",
        "print(f\"Reading data from: {csv_file_path}\")"
      ],
      "metadata": {
        "id": "xj6z5B1j-nv7",
        "outputId": "16a17e7c-857c-44b7-f36b-6eadb94d19b0",
        "colab": {
          "base_uri": "https://localhost:8080/"
        }
      },
      "execution_count": 2,
      "outputs": [
        {
          "output_type": "stream",
          "name": "stdout",
          "text": [
            "Dowlaod Dataset...\n",
            "Dataset downloaded to: /kaggle/input/superstore-dataset-final\n",
            "Reading data from: /kaggle/input/superstore-dataset-final/Sample - Superstore.csv\n"
          ]
        }
      ]
    },
    {
      "cell_type": "markdown",
      "source": [
        "=== 2. Load & Clean Data ==="
      ],
      "metadata": {
        "id": "0fos8cod7pJR"
      }
    },
    {
      "cell_type": "code",
      "source": [
        "try:\n",
        "    superstore_data = pd.read_csv(csv_file_path, encoding='ISO-8859-1')\n",
        "    print(\"Data loaded successfully.\")\n",
        "except FileNotFoundError:\n",
        "    print(f\"ERROR: File not found at {csv_file_path}.\")\n",
        "    exit()"
      ],
      "metadata": {
        "id": "Mh4kbf0HjNH7",
        "colab": {
          "base_uri": "https://localhost:8080/"
        },
        "outputId": "e9ee0e08-2d55-48c6-9dd1-7988ab94427c"
      },
      "execution_count": 3,
      "outputs": [
        {
          "output_type": "stream",
          "name": "stdout",
          "text": [
            "Data loaded successfully.\n"
          ]
        }
      ]
    },
    {
      "cell_type": "code",
      "source": [
        "# Keep necessary columns\n",
        "columns_to_keep = ['Order ID', 'Order Date', 'Ship Date', 'Customer ID', 'Country', 'City', 'State', 'Postal Code', 'Product ID', 'Product Name', 'Sales', 'Quantity', 'Category', 'Sub-Category']\n",
        "superstore_data = superstore_data[columns_to_keep]"
      ],
      "metadata": {
        "id": "_fTuhoxWlcUH"
      },
      "execution_count": 4,
      "outputs": []
    },
    {
      "cell_type": "code",
      "source": [
        "# Display the first 5 rows to check the data\n",
        "print(\"First 5 rows of data:\")\n",
        "print(superstore_data.head())"
      ],
      "metadata": {
        "id": "4bSD5nfglcFi",
        "outputId": "e31ef0f1-144d-40c7-a0a8-667ccb9ffafb",
        "colab": {
          "base_uri": "https://localhost:8080/"
        }
      },
      "execution_count": 5,
      "outputs": [
        {
          "output_type": "stream",
          "name": "stdout",
          "text": [
            "First 5 rows of data:\n",
            "         Order ID  Order Date   Ship Date Customer ID        Country  \\\n",
            "0  CA-2016-152156   11/8/2016  11/11/2016    CG-12520  United States   \n",
            "1  CA-2016-152156   11/8/2016  11/11/2016    CG-12520  United States   \n",
            "2  CA-2016-138688   6/12/2016   6/16/2016    DV-13045  United States   \n",
            "3  US-2015-108966  10/11/2015  10/18/2015    SO-20335  United States   \n",
            "4  US-2015-108966  10/11/2015  10/18/2015    SO-20335  United States   \n",
            "\n",
            "              City       State  Postal Code       Product ID  \\\n",
            "0        Henderson    Kentucky        42420  FUR-BO-10001798   \n",
            "1        Henderson    Kentucky        42420  FUR-CH-10000454   \n",
            "2      Los Angeles  California        90036  OFF-LA-10000240   \n",
            "3  Fort Lauderdale     Florida        33311  FUR-TA-10000577   \n",
            "4  Fort Lauderdale     Florida        33311  OFF-ST-10000760   \n",
            "\n",
            "                                        Product Name     Sales  Quantity  \\\n",
            "0                  Bush Somerset Collection Bookcase  261.9600         2   \n",
            "1  Hon Deluxe Fabric Upholstered Stacking Chairs,...  731.9400         3   \n",
            "2  Self-Adhesive Address Labels for Typewriters b...   14.6200         2   \n",
            "3      Bretford CR4500 Series Slim Rectangular Table  957.5775         5   \n",
            "4                     Eldon Fold 'N Roll Cart System   22.3680         2   \n",
            "\n",
            "          Category Sub-Category  \n",
            "0        Furniture    Bookcases  \n",
            "1        Furniture       Chairs  \n",
            "2  Office Supplies       Labels  \n",
            "3        Furniture       Tables  \n",
            "4  Office Supplies      Storage  \n"
          ]
        }
      ]
    },
    {
      "cell_type": "code",
      "source": [
        "# Convert dates\n",
        "superstore_data['Order Date'] = pd.to_datetime(superstore_data['Order Date'])\n",
        "superstore_data['Ship Date'] = pd.to_datetime(superstore_data['Ship Date'])"
      ],
      "metadata": {
        "id": "v8JDsd7ZkKAk"
      },
      "execution_count": 6,
      "outputs": []
    },
    {
      "cell_type": "code",
      "source": [
        "# drop rows with missing any necessary columns\n",
        "superstore_data.dropna(subset=columns_to_keep, inplace=True)"
      ],
      "metadata": {
        "id": "omwT_AcdkKXc"
      },
      "execution_count": 7,
      "outputs": []
    },
    {
      "cell_type": "markdown",
      "source": [
        "=== 3. Precomputation  ==="
      ],
      "metadata": {
        "id": "go59KyXFg9VY"
      }
    },
    {
      "cell_type": "code",
      "source": [
        "# 1. Product Popularity\n",
        "product_popularity = superstore_data.groupby('Product ID').agg({\n",
        "    'Product Name': 'first',\n",
        "    'Category': 'first',\n",
        "    'Sub-Category': 'first',\n",
        "    'Quantity': 'sum',\n",
        "    'Sales': 'sum'\n",
        "}).reset_index()\n",
        "\n",
        "# Normalize popularity score\n",
        "product_popularity['popularity_score'] = product_popularity['Quantity'] / product_popularity['Quantity'].max()\n",
        "\n",
        "# 2. Content-Based Info Preparation\n",
        "superstore_data['product_info'] = (\n",
        "    superstore_data['Product Name'].astype(str) + ' ' +\n",
        "    superstore_data['Category'].astype(str) + ' ' +\n",
        "    superstore_data['Sub-Category'].astype(str)\n",
        ")\n",
        "\n",
        "# One row per product\n",
        "products = superstore_data.drop_duplicates(subset='Product ID')[\n",
        "    ['Product ID', 'Product Name', 'Category', 'Sub-Category', 'product_info']\n",
        "]\n",
        "\n",
        "# 3. TF-IDF Matrix and Cosine Similarity\n",
        "vectorizer = TfidfVectorizer(stop_words='english')\n",
        "tfidf_matrix = vectorizer.fit_transform(products['product_info'])\n",
        "cosine_sim = cosine_similarity(tfidf_matrix, tfidf_matrix)\n",
        "\n",
        "# 4. Product Index Mapping\n",
        "product_indices = pd.Series(products.index, index=products['Product ID']).drop_duplicates()"
      ],
      "metadata": {
        "id": "c9fGWIFgg_Mp"
      },
      "execution_count": 8,
      "outputs": []
    },
    {
      "cell_type": "markdown",
      "source": [
        "=== 4. Recommendation Functions ==="
      ],
      "metadata": {
        "id": "M0vdvNDY7zWv"
      }
    },
    {
      "cell_type": "code",
      "source": [
        "# === Helper Functions ===\n",
        "# Get a list of products the customer hasn't purchased yet\n",
        "# Inputs:\n",
        "# - customer_id: ID of the target customer\n",
        "# - df: full transaction data (e.g., superstore_data)\n",
        "# - product_df: a DataFrame of all products to recommend from (e.g., product_popularity)\n",
        "# Output:\n",
        "# - filtered product_df with only unseen products\n",
        "# - list of purchased Product IDs for fallback logic\n",
        "def get_unseen_products(customer_id, df, product_df):\n",
        "    purchased = df[df['Customer ID'] == customer_id]['Product ID'].unique()\n",
        "    return product_df[~product_df['Product ID'].isin(purchased)], purchased\n",
        "\n",
        "# Add fallback recommendations if there aren't enough unseen products to recommend\n",
        "# This uses globally popular products (based on 'Quantity' or 'Sales') to fill the gap\n",
        "# Inputs:\n",
        "# - recommendations: filtered list of unseen, ranked products\n",
        "# - purchased: list of already purchased product IDs\n",
        "# - product_df: global product list (e.g., product_popularity)\n",
        "# - n: number of products we want to recommend\n",
        "# - by: popularity metric ('Quantity' or 'Sales')\n",
        "# Output:\n",
        "# - final DataFrame of n recommendations\n",
        "def add_fallback_if_needed(recommendations, purchased, product_df, n, by):\n",
        "    if len(recommendations) < n:\n",
        "        print(f\"Customer has only {len(recommendations)} new products available. Showing global popular items instead.\")\n",
        "        fallback = recommend_popular_products(n=n, by=by)\n",
        "        fallback = fallback[~fallback['Product ID'].isin(purchased)]\n",
        "        recommendations = pd.concat([recommendations, fallback]).drop_duplicates('Product ID')\n",
        "    return recommendations\n",
        "\n",
        "# Get the most common categories and sub-categories for a customer\n",
        "# This is used in personalized popularity-based recommendation\n",
        "# Returns two lists: top categories and top sub-categories based on purchase frequency\n",
        "def get_customer_preferences(customer_id, df):\n",
        "    customer_data = df[df['Customer ID'] == customer_id]\n",
        "    if customer_data.empty:\n",
        "        return [], []\n",
        "    top_categories = customer_data['Category'].value_counts().index.tolist()\n",
        "    top_subcategories = customer_data['Sub-Category'].value_counts().index.tolist()\n",
        "    return top_categories, top_subcategories\n",
        "\n",
        "\n",
        "\n",
        "# === Recommendation Functions ===\n",
        "# Recommend top-N globally popular products (ignores customer history)\n",
        "# Sorts by 'Quantity' (default) or 'Sales'\n",
        "def recommend_popular_products(n=10, by='Quantity'):\n",
        "    if by not in ['Quantity', 'Sales']:\n",
        "        raise ValueError(\"Parameter 'by' must be either 'Quantity' or 'Sales'\")\n",
        "\n",
        "    return product_popularity.sort_values(by=by, ascending=False).head(n)[['Product ID', 'Product Name', 'Category', 'Sub-Category', by]]\n",
        "\n",
        "# Unified popularity-based recommendation function\n",
        "# Modes:\n",
        "# - No customer_id → returns global top-N products\n",
        "# - With customer_id, personalized=False → excludes products already purchased\n",
        "# - With customer_id, personalized=True → filters by customer's preferred categories\n",
        "def recommend_popular(customer_id=None, personalized=False, n=10, by='Quantity'):\n",
        "    if by not in ['Quantity', 'Sales']:\n",
        "        raise ValueError(\"Parameter 'by' must be either 'Quantity' or 'Sales'\")\n",
        "\n",
        "    if customer_id is None:\n",
        "        return recommend_popular_products(n, by)\n",
        "\n",
        "    df = product_popularity\n",
        "\n",
        "    if personalized:\n",
        "        top_cats, top_subcats = get_customer_preferences(customer_id, superstore_data)\n",
        "        if not top_cats or not top_subcats:\n",
        "            return recommend_popular_products(n, by)\n",
        "        df = df[(df['Category'].isin(top_cats)) | (df['Sub-Category'].isin(top_subcats))]\n",
        "\n",
        "    unseen, purchased = get_unseen_products(customer_id, superstore_data, df)\n",
        "    unseen = unseen.sort_values(by=by, ascending=False)\n",
        "    final = add_fallback_if_needed(unseen, purchased, product_popularity, n, by)\n",
        "\n",
        "    return final.head(n)[['Product ID', 'Product Name', 'Category', 'Sub-Category', by]]\n",
        "\n",
        "# Content-based recommendation using TF-IDF + cosine similarity\n",
        "# Returns top-N products similar to a given product name (based on 'product_info')\n",
        "def recommend_similar_products(product_name, top_n=5):\n",
        "    if product_name not in product_indices:\n",
        "        return f\"Product '{product_name}' not found.\"\n",
        "\n",
        "    idx = product_indices[product_name]\n",
        "    sim_scores = list(enumerate(cosine_sim[idx]))\n",
        "    sim_scores = sorted(sim_scores, key=lambda x: x[1], reverse=True)[1:top_n+1]\n",
        "    product_idxs = [i[0] for i in sim_scores]\n",
        "\n",
        "    return products.iloc[product_idxs][['Product Name', 'Category', 'Sub-Category']]\n",
        "\n",
        "# Recommend content-similar products to a customer\n",
        "# Based on the last product the customer purchased\n",
        "def recommend_to_customer_content_based(customer_id, top_n=5):\n",
        "    customer_purchases = superstore_data[superstore_data['Customer ID'] == customer_id]\n",
        "    if customer_purchases.empty:\n",
        "        return f\"No purchase history for customer '{customer_id}'.\"\n",
        "\n",
        "    # Get last product bought\n",
        "    last_product = customer_purchases.sort_values('Order Date', ascending=False).iloc[0]['Product Name']\n",
        "\n",
        "    print(f\"Based on last product: {last_product}\")\n",
        "    return recommend_similar_products(last_product, top_n)\n",
        "\n",
        "# Hybrid Recommendation (Content-Based + Popularity)\n",
        "def recommend_hybrid(customer_id, top_n=5, similarity_weight=0.5, popularity_weight=0.5):\n",
        "    customer_data = superstore_data[superstore_data['Customer ID'] == customer_id]\n",
        "    if customer_data.empty:\n",
        "        return \"No purchase history found.\"\n",
        "\n",
        "    purchased_ids = customer_data['Product ID'].unique()\n",
        "    purchased_idxs = [product_indices[pid] for pid in purchased_ids if pid in product_indices]\n",
        "    if not purchased_idxs:\n",
        "        return \"No purchased products found in product index.\"\n",
        "\n",
        "    sim_scores = sum(cosine_sim[idx] for idx in purchased_idxs)\n",
        "    sim_scores = sim_scores / len(purchased_idxs)\n",
        "\n",
        "    sim_df = pd.DataFrame({\n",
        "        'product_index': range(len(sim_scores)),\n",
        "        'similarity_score': sim_scores\n",
        "    })\n",
        "\n",
        "    sim_df = sim_df.merge(products.reset_index(), left_on='product_index', right_index=True)\n",
        "    sim_df = sim_df[~sim_df['Product ID'].isin(purchased_ids)]\n",
        "    sim_df = sim_df.merge(product_popularity[['Product ID', 'popularity_score']], on='Product ID', how='left')\n",
        "    sim_df['popularity_score'] = sim_df['popularity_score'].fillna(0)\n",
        "    sim_df['hybrid_score'] = (\n",
        "        similarity_weight * sim_df['similarity_score'] +\n",
        "        popularity_weight * sim_df['popularity_score']\n",
        "    )\n",
        "\n",
        "    sim_df = sim_df.sort_values(by='hybrid_score', ascending=False).head(top_n)\n",
        "    return sim_df[['Product Name', 'Category', 'Sub-Category', 'hybrid_score']]"
      ],
      "metadata": {
        "id": "SsHMrd2VkK9y"
      },
      "execution_count": 9,
      "outputs": []
    },
    {
      "cell_type": "markdown",
      "source": [
        "=== 5. Example Usage ==="
      ],
      "metadata": {
        "id": "hTLkJLiOity3"
      }
    },
    {
      "cell_type": "code",
      "source": [
        "print(\"Top 5 Global Products:\")\n",
        "print(recommend_popular())  # global\n",
        "\n",
        "print(\"\\n Top 5 Personalized Products (Unseen):\")\n",
        "print(recommend_popular(customer_id='CG-12520'))  # exclude purchased\n",
        "\n",
        "print(\"\\n Top 5 Personalized Products by Preference:\")\n",
        "print(recommend_popular(customer_id='CG-12520', personalized=True))  # personalized\n",
        "\n",
        "print(\"\\n Top 5 Content-Based Recommendations:\")\n",
        "print(recommend_to_customer_content_based('CG-12520', 5))\n",
        "\n",
        "print(\"\\nTop 5 Hybrid Recommendations (Popularity + Content-Based):\")\n",
        "print(recommend_hybrid('CG-12520', top_n=5))  # Combines popularity and content similarity"
      ],
      "metadata": {
        "id": "45HD3ts26V_e",
        "outputId": "0253192b-7c57-4303-c8f0-b5d6e8015028",
        "colab": {
          "base_uri": "https://localhost:8080/"
        }
      },
      "execution_count": 10,
      "outputs": [
        {
          "output_type": "stream",
          "name": "stdout",
          "text": [
            "Top 5 Global Products:\n",
            "           Product ID                                       Product Name  \\\n",
            "1569  TEC-AC-10003832                 Logitech P710e Mobile Speakerphone   \n",
            "1144  OFF-PA-10001970                                         Xerox 1881   \n",
            "694   OFF-BI-10001524  GBC Premium Transparent Covers with Diagonal L...   \n",
            "721   OFF-BI-10002026                            Avery Arch Ring Binders   \n",
            "93    FUR-CH-10002647         Situations Contoured Folding Chairs, 4/Set   \n",
            "325   FUR-TA-10001095                 Chromcraft Round Conference Tables   \n",
            "1517  TEC-AC-10002049          Logitech G19 Programmable Gaming Keyboard   \n",
            "835   OFF-BI-10004728  Wilson Jones Turn Tabs Binder Tool for Ring Bi...   \n",
            "110   FUR-CH-10003774    Global Wood Trimmed Manager's Task Chair, Khaki   \n",
            "183   FUR-FU-10001473                            DAX Wood Document Frame   \n",
            "\n",
            "             Category Sub-Category  Quantity  \n",
            "1569       Technology  Accessories        75  \n",
            "1144  Office Supplies        Paper        70  \n",
            "694   Office Supplies      Binders        67  \n",
            "721   Office Supplies      Binders        64  \n",
            "93          Furniture       Chairs        64  \n",
            "325         Furniture       Tables        61  \n",
            "1517       Technology  Accessories        60  \n",
            "835   Office Supplies      Binders        59  \n",
            "110         Furniture       Chairs        59  \n",
            "183         Furniture  Furnishings        57  \n",
            "\n",
            " Top 5 Personalized Products (Unseen):\n",
            "           Product ID                                       Product Name  \\\n",
            "1569  TEC-AC-10003832                 Logitech P710e Mobile Speakerphone   \n",
            "1144  OFF-PA-10001970                                         Xerox 1881   \n",
            "694   OFF-BI-10001524  GBC Premium Transparent Covers with Diagonal L...   \n",
            "93    FUR-CH-10002647         Situations Contoured Folding Chairs, 4/Set   \n",
            "721   OFF-BI-10002026                            Avery Arch Ring Binders   \n",
            "325   FUR-TA-10001095                 Chromcraft Round Conference Tables   \n",
            "1517  TEC-AC-10002049          Logitech G19 Programmable Gaming Keyboard   \n",
            "110   FUR-CH-10003774    Global Wood Trimmed Manager's Task Chair, Khaki   \n",
            "835   OFF-BI-10004728  Wilson Jones Turn Tabs Binder Tool for Ring Bi...   \n",
            "183   FUR-FU-10001473                            DAX Wood Document Frame   \n",
            "\n",
            "             Category Sub-Category  Quantity  \n",
            "1569       Technology  Accessories        75  \n",
            "1144  Office Supplies        Paper        70  \n",
            "694   Office Supplies      Binders        67  \n",
            "93          Furniture       Chairs        64  \n",
            "721   Office Supplies      Binders        64  \n",
            "325         Furniture       Tables        61  \n",
            "1517       Technology  Accessories        60  \n",
            "110         Furniture       Chairs        59  \n",
            "835   Office Supplies      Binders        59  \n",
            "183         Furniture  Furnishings        57  \n",
            "\n",
            " Top 5 Personalized Products by Preference:\n",
            "           Product ID                                       Product Name  \\\n",
            "1144  OFF-PA-10001970                                         Xerox 1881   \n",
            "694   OFF-BI-10001524  GBC Premium Transparent Covers with Diagonal L...   \n",
            "93    FUR-CH-10002647         Situations Contoured Folding Chairs, 4/Set   \n",
            "721   OFF-BI-10002026                            Avery Arch Ring Binders   \n",
            "325   FUR-TA-10001095                 Chromcraft Round Conference Tables   \n",
            "110   FUR-CH-10003774    Global Wood Trimmed Manager's Task Chair, Khaki   \n",
            "835   OFF-BI-10004728  Wilson Jones Turn Tabs Binder Tool for Ring Bi...   \n",
            "183   FUR-FU-10001473                            DAX Wood Document Frame   \n",
            "1354  OFF-ST-10001809                  Fellowes Officeware Wire Shelving   \n",
            "97    FUR-CH-10002880          Global High-Back Leather Tilter, Burgundy   \n",
            "\n",
            "             Category Sub-Category  Quantity  \n",
            "1144  Office Supplies        Paper        70  \n",
            "694   Office Supplies      Binders        67  \n",
            "93          Furniture       Chairs        64  \n",
            "721   Office Supplies      Binders        64  \n",
            "325         Furniture       Tables        61  \n",
            "110         Furniture       Chairs        59  \n",
            "835   Office Supplies      Binders        59  \n",
            "183         Furniture  Furnishings        57  \n",
            "1354  Office Supplies      Storage        55  \n",
            "97          Furniture       Chairs        54  \n",
            "\n",
            " Top 5 Content-Based Recommendations:\n",
            "Based on last product: SimpliFile Personal File, Black Granite, 15w x 6-15/16d x 11-1/4h\n",
            "Product 'SimpliFile Personal File, Black Granite, 15w x 6-15/16d x 11-1/4h' not found.\n",
            "\n",
            "Top 5 Hybrid Recommendations (Popularity + Content-Based):\n",
            "                                          Product Name         Category  \\\n",
            "214                 Logitech P710e Mobile Speakerphone       Technology   \n",
            "311                                         Xerox 1881  Office Supplies   \n",
            "471         Situations Contoured Folding Chairs, 4/Set        Furniture   \n",
            "298  GBC Premium Transparent Covers with Diagonal L...  Office Supplies   \n",
            "916                            Avery Arch Ring Binders  Office Supplies   \n",
            "\n",
            "    Sub-Category  hybrid_score  \n",
            "214  Accessories      0.510387  \n",
            "311        Paper      0.476469  \n",
            "471       Chairs      0.455487  \n",
            "298      Binders      0.451774  \n",
            "916      Binders      0.434262  \n"
          ]
        }
      ]
    },
    {
      "cell_type": "code",
      "source": [
        "# visualize top products\n",
        "top10 = product_popularity.head(10)\n",
        "plt.figure(figsize=(10,5))\n",
        "plt.barh(top10['Product Name'], top10['Quantity'], color='skyblue')\n",
        "plt.gca().invert_yaxis()\n",
        "plt.xlabel('Total Quantity Sold')\n",
        "plt.title('Top 10 Most Popular Products')\n",
        "plt.show()"
      ],
      "metadata": {
        "id": "NCSRWfei6WyI"
      },
      "execution_count": null,
      "outputs": []
    },
    {
      "cell_type": "markdown",
      "source": [
        "--- Pre-computation for Recommendations ---"
      ],
      "metadata": {
        "id": "8xl5Y7wtg3qt"
      }
    },
    {
      "cell_type": "markdown",
      "source": [
        "1. Create a unique list of products"
      ],
      "metadata": {
        "id": "46CfvjYyg3qu"
      }
    },
    {
      "cell_type": "markdown",
      "source": [
        "2. Create 'product_info' text feature for Content-Based Filtering"
      ],
      "metadata": {
        "id": "Fi-UaqJ0g3qv"
      }
    },
    {
      "cell_type": "markdown",
      "source": [
        "3. Calculate TF-IDF Matrix and Cosine Similarity"
      ],
      "metadata": {
        "id": "6-962T6lg3qv"
      }
    },
    {
      "cell_type": "markdown",
      "source": [
        "4. Create a mapping from Product ID to its index in our matrices/products_df"
      ],
      "metadata": {
        "id": "GUAvowGlg3qw"
      }
    },
    {
      "cell_type": "markdown",
      "source": [
        "5. Calculate Product Popularity"
      ],
      "metadata": {
        "id": "NGbOgT_6g3qx"
      }
    },
    {
      "cell_type": "markdown",
      "source": [
        "--- Recommendation Functions ---"
      ],
      "metadata": {
        "id": "CkXyf4sWg3qx"
      }
    },
    {
      "cell_type": "markdown",
      "source": [
        "1. Popularity-Based Recommendation (Simple)"
      ],
      "metadata": {
        "id": "K-pj1TyGg3qy"
      }
    },
    {
      "cell_type": "markdown",
      "source": [
        "2. Popularity-Based Recommendation (Personalized with Category)"
      ],
      "metadata": {
        "id": "g0jW9G_Jg3qy"
      }
    },
    {
      "cell_type": "markdown",
      "source": [
        "3. Content-Based Recommendation"
      ],
      "metadata": {
        "id": "8CMkgtVAg3qz"
      }
    },
    {
      "cell_type": "markdown",
      "source": [
        "4. Hybrid Recommendation (Content Similarity + Popularity)"
      ],
      "metadata": {
        "id": "e4M0gFtMg3qz"
      }
    },
    {
      "cell_type": "markdown",
      "source": [
        "5. Collaborative Recommendation"
      ],
      "metadata": {
        "id": "tONCOxWeg3q0"
      }
    },
    {
      "cell_type": "markdown",
      "source": [
        "6. Hybrid Recommendation 2 (Content Similarity + Popularity + Collaborative)"
      ],
      "metadata": {
        "id": "KM8gcmk2g3q0"
      }
    },
    {
      "cell_type": "markdown",
      "source": [
        "--- Example Usage ---"
      ],
      "metadata": {
        "id": "m_h7SK0Xg3q1"
      }
    },
    {
      "cell_type": "markdown",
      "source": [
        "--- Visualization ---"
      ],
      "metadata": {
        "id": "RxDkBumng3q2"
      }
    }
  ]
}